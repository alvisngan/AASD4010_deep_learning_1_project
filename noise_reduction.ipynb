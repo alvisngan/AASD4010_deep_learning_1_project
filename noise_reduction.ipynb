{
 "cells": [
  {
   "cell_type": "code",
   "execution_count": 1,
   "id": "c6214c74",
   "metadata": {},
   "outputs": [],
   "source": [
    "import signal_processing as sig"
   ]
  },
  {
   "cell_type": "code",
   "execution_count": 2,
   "id": "6520f596",
   "metadata": {},
   "outputs": [
    {
     "name": "stdout",
     "output_type": "stream",
     "text": [
      "Filtered audio files saved: 3\n"
     ]
    }
   ],
   "source": [
    "sig.noise_reduction(\"data/test_dir\", \"filtered_data\")"
   ]
  },
  {
   "cell_type": "code",
   "execution_count": null,
   "id": "5dab4013",
   "metadata": {},
   "outputs": [],
   "source": []
  },
  {
   "cell_type": "code",
   "execution_count": null,
   "id": "639e7ee0",
   "metadata": {},
   "outputs": [],
   "source": []
  }
 ],
 "metadata": {
  "kernelspec": {
   "display_name": ".venv-312 (3.12.1)",
   "language": "python",
   "name": "python3"
  },
  "language_info": {
   "codemirror_mode": {
    "name": "ipython",
    "version": 3
   },
   "file_extension": ".py",
   "mimetype": "text/x-python",
   "name": "python",
   "nbconvert_exporter": "python",
   "pygments_lexer": "ipython3",
   "version": "3.12.1"
  }
 },
 "nbformat": 4,
 "nbformat_minor": 5
}
