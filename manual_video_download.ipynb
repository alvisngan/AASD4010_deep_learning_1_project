{
 "cells": [
  {
   "cell_type": "code",
   "execution_count": 2,
   "id": "32cb653b",
   "metadata": {},
   "outputs": [
    {
     "name": "stdout",
     "output_type": "stream",
     "text": [
      "downloads\n"
     ]
    }
   ],
   "source": [
    "import yt_dlp\n",
    "from pathlib import Path\n",
    "\n",
    "out_dir = Path(\"downloads\")\n",
    "out_dir.mkdir(exist_ok=True)\n",
    "\n",
    "print(out_dir)"
   ]
  },
  {
   "cell_type": "code",
   "execution_count": 22,
   "id": "81e41291",
   "metadata": {},
   "outputs": [],
   "source": [
    "links = [#V8\n",
    "        \"https://youtu.be/r9FSodgUPBM\",\n",
    "         \"https://youtu.be/hhJelyFL_YQ\",\n",
    "         \"https://youtu.be/SrW-kR2UsMA\",\n",
    "        #V6\n",
    "         \"https://youtu.be/3OFKcdNv4MQ\",\n",
    "         \"https://youtu.be/ye3s_OWt6Jw\",\n",
    "         \"https://youtu.be/PFLHiMUSWXg\",\n",
    "         \"https://youtu.be/pV8sk5dxXFw\",\n",
    "         \"https://youtu.be/GszC_DFSOko\",\n",
    "         \"https://youtu.be/dNkzjk334Xw\",\n",
    "         #I6\n",
    "         \"https://youtu.be/dtyNT3vmbR0\",\n",
    "         \"https://youtu.be/QZfbqttmVwo\",\n",
    "         #V10\n",
    "         \"https://youtu.be/JdK_Dp6mBkc\",\n",
    "         #V12\n",
    "         \"https://youtu.be/YT0dB5ucv2g\",\n",
    "         #I5\n",
    "         \"https://youtu.be/Vf-2OSGKgl4\",\n",
    "         #I4\n",
    "         \"https://youtu.be/vlU6VWOisK0\"]"
   ]
  },
  {
   "cell_type": "code",
   "execution_count": 9,
   "id": "3ab862a5",
   "metadata": {},
   "outputs": [],
   "source": [
    "\n",
    "ydl_opts = {\n",
    "        'paths': {'home': str(out_dir)},\n",
    "        #'outtmpl': {'default': f'{base_name}_{seg.index}.%(ext)s'},\n",
    "        'format': 'bestaudio/best',\n",
    "        'noplaylist': True,\n",
    "        'extract_flat': 'discard_in_playlist',\n",
    "        #'force_keyframes_at_cuts': True,\n",
    "        #'download_ranges': _ranges_cb,\n",
    "        'overwrites': True,\n",
    "        'quiet': False,\n",
    "        'noprogress': False,\n",
    "        'no_warnings': False,\n",
    "        # Extract to WAV directly\n",
    "        'postprocessors': [{\n",
    "            'key': 'FFmpegExtractAudio',\n",
    "            'preferredcodec': 'wav',\n",
    "            'preferredquality': '0',\n",
    "        }],\n",
    "        'postprocessor_args': {\n",
    "            'FFmpegExtractAudio': ['-ar','48000','-ac','2']\n",
    "        },\n",
    "    }"
   ]
  },
  {
   "cell_type": "code",
   "execution_count": 26,
   "id": "0a78459a",
   "metadata": {},
   "outputs": [
    {
     "name": "stdout",
     "output_type": "stream",
     "text": [
      "[youtube] Extracting URL: https://youtu.be/hhJelyFL_YQ\n",
      "[youtube] hhJelyFL_YQ: Downloading webpage\n",
      "[youtube] hhJelyFL_YQ: Downloading tv simply player API JSON\n",
      "[youtube] hhJelyFL_YQ: Downloading tv client config\n",
      "[youtube] hhJelyFL_YQ: Downloading tv player API JSON\n",
      "[info] hhJelyFL_YQ: Downloading 1 format(s): 251\n",
      "[download] Sleeping 3.00 seconds as required by the site...\n",
      "[download] Destination: downloads/15 Best Sounding V8 Engines [hhJelyFL_YQ].webm\n",
      "[download] 100% of   11.48MiB in 00:00:00 at 18.16MiB/s    \n",
      "[ExtractAudio] Destination: downloads/15 Best Sounding V8 Engines [hhJelyFL_YQ].wav\n",
      "Deleting original file downloads/15 Best Sounding V8 Engines [hhJelyFL_YQ].webm (pass -k to keep)\n"
     ]
    }
   ],
   "source": [
    "import os\n",
    "import time\n",
    "\n",
    "# List files already downloaded\n",
    "# Look within subdirectories within downloads/\n",
    "downloaded_files = []\n",
    "for root, dirs, files in os.walk(\"downloads\"):\n",
    "    for filename in files:\n",
    "        downloaded_files.append(filename)\n",
    "\n",
    "#ID is in square brackets at the end of each filename\n",
    "downloaded_ids = [f.split(\"[\")[-1].replace(\"].wav\",\"\") for f in downloaded_files]\n",
    "for d in downloaded_ids:\n",
    "    #print(d)\n",
    "    pass\n",
    "\n",
    "base_names = [link.split(\"/\")[-1] for link in links]\n",
    "\n",
    "for link in links:\n",
    "    if link.split(\"/\")[-1] not in downloaded_ids:\n",
    "        with yt_dlp.YoutubeDL(ydl_opts) as ydl:\n",
    "            ydl.download([link])\n",
    "            time.sleep(5)\n",
    "        #pass"
   ]
  },
  {
   "cell_type": "code",
   "execution_count": null,
   "id": "e7ec006d",
   "metadata": {},
   "outputs": [],
   "source": []
  }
 ],
 "metadata": {
  "kernelspec": {
   "display_name": ".venv-312 (3.12.1)",
   "language": "python",
   "name": "python3"
  },
  "language_info": {
   "codemirror_mode": {
    "name": "ipython",
    "version": 3
   },
   "file_extension": ".py",
   "mimetype": "text/x-python",
   "name": "python",
   "nbconvert_exporter": "python",
   "pygments_lexer": "ipython3",
   "version": "3.12.1"
  }
 },
 "nbformat": 4,
 "nbformat_minor": 5
}
